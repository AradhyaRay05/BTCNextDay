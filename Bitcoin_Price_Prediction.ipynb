{
  "cells": [
    {
      "cell_type": "code",
      "execution_count": 1,
      "metadata": {
        "id": "hw0JfrhTfPwS"
      },
      "outputs": [],
      "source": [
        "import numpy as np\n",
        "import pandas as pd\n",
        "from sklearn.model_selection import train_test_split\n",
        "from sklearn.linear_model import LinearRegression\n",
        "from sklearn.ensemble import RandomForestRegressor, AdaBoostRegressor\n",
        "import xgboost as xgb\n",
        "import lightgbm as lgb\n",
        "import catboost as cb\n",
        "from sklearn.svm import SVR"
      ]
    },
    {
      "cell_type": "code",
      "execution_count": null,
      "metadata": {
        "id": "a22aae2e"
      },
      "outputs": [],
      "source": [
        "data = pd.read_csv('Bitcoin_Dataset.csv')"
      ]
    },
    {
      "cell_type": "code",
      "execution_count": 3,
      "metadata": {
        "colab": {
          "base_uri": "https://localhost:8080/",
          "height": 206
        },
        "id": "Q4rvtRlpdyhD",
        "outputId": "53a85001-4dae-420a-b0ab-fb0d8298fe31"
      },
      "outputs": [
        {
          "data": {
            "application/vnd.microsoft.datawrangler.viewer.v0+json": {
              "columns": [
                {
                  "name": "index",
                  "rawType": "int64",
                  "type": "integer"
                },
                {
                  "name": "timestamp",
                  "rawType": "object",
                  "type": "string"
                },
                {
                  "name": "open",
                  "rawType": "float64",
                  "type": "float"
                },
                {
                  "name": "close",
                  "rawType": "float64",
                  "type": "float"
                },
                {
                  "name": "high",
                  "rawType": "float64",
                  "type": "float"
                },
                {
                  "name": "low",
                  "rawType": "float64",
                  "type": "float"
                }
              ],
              "ref": "71f21e8d-7f49-43d8-828c-71c2f5a6c0d8",
              "rows": [
                [
                  "0",
                  "2020-03-25 08:00:00",
                  "6500.0",
                  "6511.5",
                  "6628.5",
                  "6457.5"
                ],
                [
                  "1",
                  "2020-03-25 12:00:00",
                  "6511.5",
                  "6615.0",
                  "6745.5",
                  "6502.0"
                ],
                [
                  "2",
                  "2020-03-25 16:00:00",
                  "6615.0",
                  "6622.0",
                  "6695.5",
                  "6592.5"
                ],
                [
                  "3",
                  "2020-03-25 20:00:00",
                  "6622.0",
                  "6698.5",
                  "6698.5",
                  "6556.0"
                ],
                [
                  "4",
                  "2020-03-26 00:00:00",
                  "6698.5",
                  "6726.5",
                  "6767.0",
                  "6655.0"
                ]
              ],
              "shape": {
                "columns": 5,
                "rows": 5
              }
            },
            "text/html": [
              "<div>\n",
              "<style scoped>\n",
              "    .dataframe tbody tr th:only-of-type {\n",
              "        vertical-align: middle;\n",
              "    }\n",
              "\n",
              "    .dataframe tbody tr th {\n",
              "        vertical-align: top;\n",
              "    }\n",
              "\n",
              "    .dataframe thead th {\n",
              "        text-align: right;\n",
              "    }\n",
              "</style>\n",
              "<table border=\"1\" class=\"dataframe\">\n",
              "  <thead>\n",
              "    <tr style=\"text-align: right;\">\n",
              "      <th></th>\n",
              "      <th>timestamp</th>\n",
              "      <th>open</th>\n",
              "      <th>close</th>\n",
              "      <th>high</th>\n",
              "      <th>low</th>\n",
              "    </tr>\n",
              "  </thead>\n",
              "  <tbody>\n",
              "    <tr>\n",
              "      <th>0</th>\n",
              "      <td>2020-03-25 08:00:00</td>\n",
              "      <td>6500.0</td>\n",
              "      <td>6511.5</td>\n",
              "      <td>6628.5</td>\n",
              "      <td>6457.5</td>\n",
              "    </tr>\n",
              "    <tr>\n",
              "      <th>1</th>\n",
              "      <td>2020-03-25 12:00:00</td>\n",
              "      <td>6511.5</td>\n",
              "      <td>6615.0</td>\n",
              "      <td>6745.5</td>\n",
              "      <td>6502.0</td>\n",
              "    </tr>\n",
              "    <tr>\n",
              "      <th>2</th>\n",
              "      <td>2020-03-25 16:00:00</td>\n",
              "      <td>6615.0</td>\n",
              "      <td>6622.0</td>\n",
              "      <td>6695.5</td>\n",
              "      <td>6592.5</td>\n",
              "    </tr>\n",
              "    <tr>\n",
              "      <th>3</th>\n",
              "      <td>2020-03-25 20:00:00</td>\n",
              "      <td>6622.0</td>\n",
              "      <td>6698.5</td>\n",
              "      <td>6698.5</td>\n",
              "      <td>6556.0</td>\n",
              "    </tr>\n",
              "    <tr>\n",
              "      <th>4</th>\n",
              "      <td>2020-03-26 00:00:00</td>\n",
              "      <td>6698.5</td>\n",
              "      <td>6726.5</td>\n",
              "      <td>6767.0</td>\n",
              "      <td>6655.0</td>\n",
              "    </tr>\n",
              "  </tbody>\n",
              "</table>\n",
              "</div>"
            ],
            "text/plain": [
              "             timestamp    open   close    high     low\n",
              "0  2020-03-25 08:00:00  6500.0  6511.5  6628.5  6457.5\n",
              "1  2020-03-25 12:00:00  6511.5  6615.0  6745.5  6502.0\n",
              "2  2020-03-25 16:00:00  6615.0  6622.0  6695.5  6592.5\n",
              "3  2020-03-25 20:00:00  6622.0  6698.5  6698.5  6556.0\n",
              "4  2020-03-26 00:00:00  6698.5  6726.5  6767.0  6655.0"
            ]
          },
          "execution_count": 3,
          "metadata": {},
          "output_type": "execute_result"
        }
      ],
      "source": [
        "data.head()"
      ]
    },
    {
      "cell_type": "code",
      "execution_count": 4,
      "metadata": {
        "colab": {
          "base_uri": "https://localhost:8080/"
        },
        "id": "f17563be",
        "outputId": "add8220b-a736-48bc-9141-7af1b6a46c72"
      },
      "outputs": [
        {
          "name": "stdout",
          "output_type": "stream",
          "text": [
            "<class 'pandas.core.frame.DataFrame'>\n",
            "RangeIndex: 11736 entries, 0 to 11735\n",
            "Data columns (total 5 columns):\n",
            " #   Column     Non-Null Count  Dtype  \n",
            "---  ------     --------------  -----  \n",
            " 0   timestamp  11736 non-null  object \n",
            " 1   open       11736 non-null  float64\n",
            " 2   close      11736 non-null  float64\n",
            " 3   high       11736 non-null  float64\n",
            " 4   low        11736 non-null  float64\n",
            "dtypes: float64(4), object(1)\n",
            "memory usage: 458.6+ KB\n"
          ]
        }
      ],
      "source": [
        "data.info()"
      ]
    },
    {
      "cell_type": "code",
      "execution_count": 5,
      "metadata": {
        "colab": {
          "base_uri": "https://localhost:8080/",
          "height": 300
        },
        "id": "umMB3TGfWLFy",
        "outputId": "bfee963d-2629-44e3-9b49-fc631805157f"
      },
      "outputs": [
        {
          "data": {
            "application/vnd.microsoft.datawrangler.viewer.v0+json": {
              "columns": [
                {
                  "name": "index",
                  "rawType": "object",
                  "type": "string"
                },
                {
                  "name": "open",
                  "rawType": "float64",
                  "type": "float"
                },
                {
                  "name": "close",
                  "rawType": "float64",
                  "type": "float"
                },
                {
                  "name": "high",
                  "rawType": "float64",
                  "type": "float"
                },
                {
                  "name": "low",
                  "rawType": "float64",
                  "type": "float"
                }
              ],
              "ref": "12565639-8e33-4f14-a111-5c295915fb7e",
              "rows": [
                [
                  "count",
                  "11736.0",
                  "11736.0",
                  "11736.0",
                  "11736.0"
                ],
                [
                  "mean",
                  "44294.57264826176",
                  "44303.892007498296",
                  "44671.619435923654",
                  "43903.8184730743"
                ],
                [
                  "std",
                  "27539.124716531012",
                  "27544.79482945717",
                  "27712.789189363997",
                  "27363.77940446011"
                ],
                [
                  "min",
                  "5873.0",
                  "5873.0",
                  "5950.0",
                  "5841.5"
                ],
                [
                  "25%",
                  "22891.0",
                  "22893.0",
                  "23085.1",
                  "22676.875"
                ],
                [
                  "50%",
                  "38600.1",
                  "38605.25",
                  "39094.0",
                  "38139.75"
                ],
                [
                  "75%",
                  "60990.425",
                  "60994.375",
                  "61471.25",
                  "60518.925"
                ],
                [
                  "max",
                  "122780.0",
                  "122838.0",
                  "122838.0",
                  "121480.0"
                ]
              ],
              "shape": {
                "columns": 4,
                "rows": 8
              }
            },
            "text/html": [
              "<div>\n",
              "<style scoped>\n",
              "    .dataframe tbody tr th:only-of-type {\n",
              "        vertical-align: middle;\n",
              "    }\n",
              "\n",
              "    .dataframe tbody tr th {\n",
              "        vertical-align: top;\n",
              "    }\n",
              "\n",
              "    .dataframe thead th {\n",
              "        text-align: right;\n",
              "    }\n",
              "</style>\n",
              "<table border=\"1\" class=\"dataframe\">\n",
              "  <thead>\n",
              "    <tr style=\"text-align: right;\">\n",
              "      <th></th>\n",
              "      <th>open</th>\n",
              "      <th>close</th>\n",
              "      <th>high</th>\n",
              "      <th>low</th>\n",
              "    </tr>\n",
              "  </thead>\n",
              "  <tbody>\n",
              "    <tr>\n",
              "      <th>count</th>\n",
              "      <td>11736.000000</td>\n",
              "      <td>11736.000000</td>\n",
              "      <td>11736.000000</td>\n",
              "      <td>11736.000000</td>\n",
              "    </tr>\n",
              "    <tr>\n",
              "      <th>mean</th>\n",
              "      <td>44294.572648</td>\n",
              "      <td>44303.892007</td>\n",
              "      <td>44671.619436</td>\n",
              "      <td>43903.818473</td>\n",
              "    </tr>\n",
              "    <tr>\n",
              "      <th>std</th>\n",
              "      <td>27539.124717</td>\n",
              "      <td>27544.794829</td>\n",
              "      <td>27712.789189</td>\n",
              "      <td>27363.779404</td>\n",
              "    </tr>\n",
              "    <tr>\n",
              "      <th>min</th>\n",
              "      <td>5873.000000</td>\n",
              "      <td>5873.000000</td>\n",
              "      <td>5950.000000</td>\n",
              "      <td>5841.500000</td>\n",
              "    </tr>\n",
              "    <tr>\n",
              "      <th>25%</th>\n",
              "      <td>22891.000000</td>\n",
              "      <td>22893.000000</td>\n",
              "      <td>23085.100000</td>\n",
              "      <td>22676.875000</td>\n",
              "    </tr>\n",
              "    <tr>\n",
              "      <th>50%</th>\n",
              "      <td>38600.100000</td>\n",
              "      <td>38605.250000</td>\n",
              "      <td>39094.000000</td>\n",
              "      <td>38139.750000</td>\n",
              "    </tr>\n",
              "    <tr>\n",
              "      <th>75%</th>\n",
              "      <td>60990.425000</td>\n",
              "      <td>60994.375000</td>\n",
              "      <td>61471.250000</td>\n",
              "      <td>60518.925000</td>\n",
              "    </tr>\n",
              "    <tr>\n",
              "      <th>max</th>\n",
              "      <td>122780.000000</td>\n",
              "      <td>122838.000000</td>\n",
              "      <td>122838.000000</td>\n",
              "      <td>121480.000000</td>\n",
              "    </tr>\n",
              "  </tbody>\n",
              "</table>\n",
              "</div>"
            ],
            "text/plain": [
              "                open          close           high            low\n",
              "count   11736.000000   11736.000000   11736.000000   11736.000000\n",
              "mean    44294.572648   44303.892007   44671.619436   43903.818473\n",
              "std     27539.124717   27544.794829   27712.789189   27363.779404\n",
              "min      5873.000000    5873.000000    5950.000000    5841.500000\n",
              "25%     22891.000000   22893.000000   23085.100000   22676.875000\n",
              "50%     38600.100000   38605.250000   39094.000000   38139.750000\n",
              "75%     60990.425000   60994.375000   61471.250000   60518.925000\n",
              "max    122780.000000  122838.000000  122838.000000  121480.000000"
            ]
          },
          "metadata": {},
          "output_type": "display_data"
        }
      ],
      "source": [
        "display(data.describe())"
      ]
    },
    {
      "cell_type": "code",
      "execution_count": 6,
      "metadata": {
        "colab": {
          "base_uri": "https://localhost:8080/"
        },
        "id": "avrMLgF8WPsz",
        "outputId": "1d2db080-6a9d-434c-a83a-b2a1237d6162"
      },
      "outputs": [
        {
          "name": "stdout",
          "output_type": "stream",
          "text": [
            "Number of duplicate rows: 0\n"
          ]
        }
      ],
      "source": [
        "print(\"Number of duplicate rows:\", data.duplicated().sum())"
      ]
    },
    {
      "cell_type": "code",
      "execution_count": 7,
      "metadata": {
        "colab": {
          "base_uri": "https://localhost:8080/",
          "height": 206
        },
        "id": "gqyaFUAYWJy8",
        "outputId": "0ca6b44a-8436-484f-a412-93689ff710db"
      },
      "outputs": [
        {
          "data": {
            "application/vnd.microsoft.datawrangler.viewer.v0+json": {
              "columns": [
                {
                  "name": "index",
                  "rawType": "int64",
                  "type": "integer"
                },
                {
                  "name": "timestamp",
                  "rawType": "object",
                  "type": "string"
                },
                {
                  "name": "open",
                  "rawType": "float64",
                  "type": "float"
                },
                {
                  "name": "close",
                  "rawType": "float64",
                  "type": "float"
                },
                {
                  "name": "high",
                  "rawType": "float64",
                  "type": "float"
                },
                {
                  "name": "low",
                  "rawType": "float64",
                  "type": "float"
                }
              ],
              "ref": "024a2606-e76b-4271-91ff-7f0ce2d4fcdc",
              "rows": [
                [
                  "11731",
                  "2025-08-01 12:00:00",
                  "114917.0",
                  "115193.0",
                  "115240.0",
                  "114326.0"
                ],
                [
                  "11732",
                  "2025-08-01 16:00:00",
                  "115259.0",
                  "115326.0",
                  "115899.0",
                  "114322.0"
                ],
                [
                  "11733",
                  "2025-08-01 20:00:00",
                  "115341.0",
                  "113395.0",
                  "115593.0",
                  "113379.0"
                ],
                [
                  "11734",
                  "2025-08-02 00:00:00",
                  "113288.0",
                  "113235.0",
                  "113965.0",
                  "112825.0"
                ],
                [
                  "11735",
                  "2025-08-02 04:00:00",
                  "113275.0",
                  "113803.0",
                  "113832.0",
                  "113239.0"
                ]
              ],
              "shape": {
                "columns": 5,
                "rows": 5
              }
            },
            "text/html": [
              "<div>\n",
              "<style scoped>\n",
              "    .dataframe tbody tr th:only-of-type {\n",
              "        vertical-align: middle;\n",
              "    }\n",
              "\n",
              "    .dataframe tbody tr th {\n",
              "        vertical-align: top;\n",
              "    }\n",
              "\n",
              "    .dataframe thead th {\n",
              "        text-align: right;\n",
              "    }\n",
              "</style>\n",
              "<table border=\"1\" class=\"dataframe\">\n",
              "  <thead>\n",
              "    <tr style=\"text-align: right;\">\n",
              "      <th></th>\n",
              "      <th>timestamp</th>\n",
              "      <th>open</th>\n",
              "      <th>close</th>\n",
              "      <th>high</th>\n",
              "      <th>low</th>\n",
              "    </tr>\n",
              "  </thead>\n",
              "  <tbody>\n",
              "    <tr>\n",
              "      <th>11731</th>\n",
              "      <td>2025-08-01 12:00:00</td>\n",
              "      <td>114917.0</td>\n",
              "      <td>115193.0</td>\n",
              "      <td>115240.0</td>\n",
              "      <td>114326.0</td>\n",
              "    </tr>\n",
              "    <tr>\n",
              "      <th>11732</th>\n",
              "      <td>2025-08-01 16:00:00</td>\n",
              "      <td>115259.0</td>\n",
              "      <td>115326.0</td>\n",
              "      <td>115899.0</td>\n",
              "      <td>114322.0</td>\n",
              "    </tr>\n",
              "    <tr>\n",
              "      <th>11733</th>\n",
              "      <td>2025-08-01 20:00:00</td>\n",
              "      <td>115341.0</td>\n",
              "      <td>113395.0</td>\n",
              "      <td>115593.0</td>\n",
              "      <td>113379.0</td>\n",
              "    </tr>\n",
              "    <tr>\n",
              "      <th>11734</th>\n",
              "      <td>2025-08-02 00:00:00</td>\n",
              "      <td>113288.0</td>\n",
              "      <td>113235.0</td>\n",
              "      <td>113965.0</td>\n",
              "      <td>112825.0</td>\n",
              "    </tr>\n",
              "    <tr>\n",
              "      <th>11735</th>\n",
              "      <td>2025-08-02 04:00:00</td>\n",
              "      <td>113275.0</td>\n",
              "      <td>113803.0</td>\n",
              "      <td>113832.0</td>\n",
              "      <td>113239.0</td>\n",
              "    </tr>\n",
              "  </tbody>\n",
              "</table>\n",
              "</div>"
            ],
            "text/plain": [
              "                 timestamp      open     close      high       low\n",
              "11731  2025-08-01 12:00:00  114917.0  115193.0  115240.0  114326.0\n",
              "11732  2025-08-01 16:00:00  115259.0  115326.0  115899.0  114322.0\n",
              "11733  2025-08-01 20:00:00  115341.0  113395.0  115593.0  113379.0\n",
              "11734  2025-08-02 00:00:00  113288.0  113235.0  113965.0  112825.0\n",
              "11735  2025-08-02 04:00:00  113275.0  113803.0  113832.0  113239.0"
            ]
          },
          "execution_count": 7,
          "metadata": {},
          "output_type": "execute_result"
        }
      ],
      "source": [
        "data.tail()"
      ]
    },
    {
      "cell_type": "code",
      "execution_count": 8,
      "metadata": {
        "id": "BeT2KsFxd388"
      },
      "outputs": [],
      "source": [
        "predictionDays = 50\n",
        "data['Prediction'] = data['close'].shift(-predictionDays)"
      ]
    },
    {
      "cell_type": "code",
      "execution_count": 9,
      "metadata": {
        "id": "H2BBi_g5d4_k"
      },
      "outputs": [],
      "source": [
        "data.dropna(inplace=True)\n",
        "\n",
        "data['timestamp'] = pd.to_datetime(data['timestamp'], format='%Y-%m-%d %H:%M:%S')\n",
        "data = data.set_index('timestamp')"
      ]
    },
    {
      "cell_type": "code",
      "execution_count": 10,
      "metadata": {
        "colab": {
          "base_uri": "https://localhost:8080/"
        },
        "id": "98d2c55e",
        "outputId": "6aec8bc0-f54d-4fa6-fb20-417836a1aff4"
      },
      "outputs": [
        {
          "name": "stdout",
          "output_type": "stream",
          "text": [
            "Shapes of training and testing data:\n",
            "xtrain shape: (9348, 1)\n",
            "ytrain shape: (9348,)\n",
            "xtest shape: (2338, 1)\n",
            "ytest shape: (2338,)\n",
            "\n",
            "Shape of predictionDays_array: (50, 1)\n"
          ]
        }
      ],
      "source": [
        "X = data[['close']].values\n",
        "y = data['Prediction'].values\n",
        "\n",
        "xtrain, xtest, ytrain, ytest = train_test_split(X, y, test_size=0.2, random_state=42)\n",
        "predictionDays_array = data[['close']].values[-predictionDays:]\n",
        "print(\"Shapes of training and testing data:\")\n",
        "print(\"xtrain shape:\", xtrain.shape)\n",
        "print(\"ytrain shape:\", ytrain.shape)\n",
        "print(\"xtest shape:\", xtest.shape)\n",
        "print(\"ytest shape:\", ytest.shape)\n",
        "print(\"\\nShape of predictionDays_array:\", predictionDays_array.shape)"
      ]
    },
    {
      "cell_type": "code",
      "execution_count": 11,
      "metadata": {
        "colab": {
          "base_uri": "https://localhost:8080/"
        },
        "id": "vIWDM_yEeW5r",
        "outputId": "22671aa8-2ba8-411f-87f3-e66e810c527c"
      },
      "outputs": [
        {
          "name": "stdout",
          "output_type": "stream",
          "text": [
            "Linear Regression accuracy : 0.9781109455543543\n"
          ]
        }
      ],
      "source": [
        "linear_regression_model = LinearRegression()\n",
        "linear_regression_model.fit(xtrain, ytrain)\n",
        "linear_regression_confidence = linear_regression_model.score(xtest, ytest)\n",
        "print('Linear Regression accuracy :', linear_regression_confidence)"
      ]
    },
    {
      "cell_type": "code",
      "execution_count": 12,
      "metadata": {
        "colab": {
          "base_uri": "https://localhost:8080/"
        },
        "id": "-7gzMFVCekir",
        "outputId": "88cca4a9-8be0-44ba-cf3c-c7c6ae67acc3"
      },
      "outputs": [
        {
          "name": "stdout",
          "output_type": "stream",
          "text": [
            "Random Forest Regressor accuracy : 0.971490559739541\n"
          ]
        }
      ],
      "source": [
        "random_forest_model = RandomForestRegressor(n_estimators=100, random_state=42)\n",
        "random_forest_model.fit(xtrain, ytrain)\n",
        "random_forest_confidence = random_forest_model.score(xtest, ytest)\n",
        "print('Random Forest Regressor accuracy :', random_forest_confidence)"
      ]
    },
    {
      "cell_type": "code",
      "execution_count": 13,
      "metadata": {
        "colab": {
          "base_uri": "https://localhost:8080/"
        },
        "id": "I3lNr7p1enps",
        "outputId": "afe9e013-8ddf-4a69-ad4e-9d70e77dd0b0"
      },
      "outputs": [
        {
          "name": "stdout",
          "output_type": "stream",
          "text": [
            "SVR_RBF accuracy : 0.8250600672942165\n"
          ]
        }
      ],
      "source": [
        "svr_rbf = SVR(kernel='rbf', C=1e3, gamma=0.00001)\n",
        "svr_rbf.fit(xtrain, ytrain)\n",
        "svr_rbf_confidence = svr_rbf.score(xtest, ytest)\n",
        "print('SVR_RBF accuracy :', svr_rbf_confidence)"
      ]
    },
    {
      "cell_type": "code",
      "execution_count": 14,
      "metadata": {
        "colab": {
          "base_uri": "https://localhost:8080/"
        },
        "id": "3bi6lHd4evzF",
        "outputId": "bbdd7ea7-1a71-4a00-8252-a59de55425d8"
      },
      "outputs": [
        {
          "name": "stdout",
          "output_type": "stream",
          "text": [
            "XGBoost Regressor accuracy : 0.9797571970727822\n"
          ]
        }
      ],
      "source": [
        "xgb_model = xgb.XGBRegressor(objective='reg:squarederror', n_estimators=100, random_state=42)\n",
        "xgb_model.fit(xtrain, ytrain)\n",
        "xgb_confidence = xgb_model.score(xtest, ytest)\n",
        "print('XGBoost Regressor accuracy :', xgb_confidence)"
      ]
    },
    {
      "cell_type": "code",
      "execution_count": 15,
      "metadata": {
        "colab": {
          "base_uri": "https://localhost:8080/"
        },
        "id": "DCU7TLoje2Mi",
        "outputId": "c45411b0-a1be-4eab-cdc0-8598220c04b8"
      },
      "outputs": [
        {
          "name": "stdout",
          "output_type": "stream",
          "text": [
            "[LightGBM] [Info] Auto-choosing col-wise multi-threading, the overhead of testing was 0.000727 seconds.\n",
            "You can set `force_col_wise=true` to remove the overhead.\n",
            "[LightGBM] [Info] Total Bins 255\n",
            "[LightGBM] [Info] Number of data points in the train set: 9348, number of used features: 1\n",
            "[LightGBM] [Info] Start training from score 44293.508340\n",
            "LightGBM Regressor accuracy : 0.9795553266504416\n"
          ]
        },
        {
          "name": "stderr",
          "output_type": "stream",
          "text": [
            "d:\\Education\\Coding\\.conda\\Lib\\site-packages\\sklearn\\utils\\validation.py:2749: UserWarning: X does not have valid feature names, but LGBMRegressor was fitted with feature names\n",
            "  warnings.warn(\n"
          ]
        }
      ],
      "source": [
        "lgb_model = lgb.LGBMRegressor(n_estimators=100, random_state=42)\n",
        "lgb_model.fit(xtrain, ytrain)\n",
        "lgb_confidence = lgb_model.score(xtest, ytest)\n",
        "print('LightGBM Regressor accuracy :', lgb_confidence)"
      ]
    },
    {
      "cell_type": "code",
      "execution_count": 16,
      "metadata": {
        "colab": {
          "base_uri": "https://localhost:8080/"
        },
        "id": "BuqV0Q2De4PL",
        "outputId": "2315cc80-1b58-428b-8303-dbcbf3312e34"
      },
      "outputs": [
        {
          "name": "stdout",
          "output_type": "stream",
          "text": [
            "CatBoost Regressor accuracy : 0.9799295710740428\n"
          ]
        }
      ],
      "source": [
        "catboost_model = cb.CatBoostRegressor(n_estimators=100, random_state=42, verbose=0)\n",
        "catboost_model.fit(xtrain, ytrain)\n",
        "catboost_confidence = catboost_model.score(xtest, ytest)\n",
        "print('CatBoost Regressor accuracy :', catboost_confidence)"
      ]
    },
    {
      "cell_type": "code",
      "execution_count": 17,
      "metadata": {
        "colab": {
          "base_uri": "https://localhost:8080/"
        },
        "id": "Kmj2FGlke7XT",
        "outputId": "f6ada986-c951-4237-b5cc-9d31f7763003"
      },
      "outputs": [
        {
          "name": "stdout",
          "output_type": "stream",
          "text": [
            "AdaBoost Regressor accuracy : 0.969019652465407\n"
          ]
        }
      ],
      "source": [
        "adaboost_model = AdaBoostRegressor(n_estimators=100, random_state=42)\n",
        "adaboost_model.fit(xtrain, ytrain)\n",
        "adaboost_confidence = adaboost_model.score(xtest, ytest)\n",
        "print('AdaBoost Regressor accuracy :', adaboost_confidence)"
      ]
    },
    {
      "cell_type": "code",
      "execution_count": 18,
      "metadata": {
        "colab": {
          "base_uri": "https://localhost:8080/"
        },
        "id": "f33a9e97",
        "outputId": "34b9ff7e-2168-4abc-9166-3b5f98a6d651"
      },
      "outputs": [
        {
          "name": "stdout",
          "output_type": "stream",
          "text": [
            "SVR_RBF accuracy : 0.8250600672942165\n",
            "Linear Regression accuracy : 0.9781109455543543\n",
            "Random Forest Regressor accuracy : 0.971490559739541\n",
            "XGBoost Regressor accuracy : 0.9797571970727822\n",
            "LightGBM Regressor accuracy : 0.9795553266504416\n",
            "CatBoost Regressor accuracy : 0.9799295710740428\n",
            "AdaBoost Regressor accuracy : 0.969019652465407\n",
            "\n",
            "Best performing model: CatBoost Regressor\n"
          ]
        }
      ],
      "source": [
        "model_accuracies = {\n",
        "    'SVR_RBF': svr_rbf_confidence,\n",
        "    'Linear Regression': linear_regression_confidence,\n",
        "    'Random Forest Regressor': random_forest_confidence,\n",
        "    'XGBoost Regressor': xgb_confidence,\n",
        "    'LightGBM Regressor': lgb_confidence,\n",
        "    'CatBoost Regressor': catboost_confidence,\n",
        "    'AdaBoost Regressor': adaboost_confidence\n",
        "}\n",
        "\n",
        "for model_name, accuracy in model_accuracies.items():\n",
        "    print(f'{model_name} accuracy : {accuracy}')\n",
        "\n",
        "best_model_name = max(model_accuracies, key=model_accuracies.get)\n",
        "print(f\"\\nBest performing model: {best_model_name}\")"
      ]
    },
    {
      "cell_type": "code",
      "execution_count": 19,
      "metadata": {
        "colab": {
          "base_uri": "https://localhost:8080/"
        },
        "id": "742535a7",
        "outputId": "eb8b1c1e-e5d3-4c41-e953-49ad57bd8018"
      },
      "outputs": [
        {
          "name": "stdout",
          "output_type": "stream",
          "text": [
            "[117624.40239641 117624.40239641 117624.40239641 116437.74492065\n",
            " 117624.40239641 117624.40239641 117624.40239641 117624.40239641\n",
            " 117624.40239641 117624.40239641 117624.40239641 117624.40239641\n",
            " 116437.74492065 116437.74492065 116437.74492065 117624.40239641\n",
            " 117624.40239641 117624.40239641 117624.40239641 117624.40239641\n",
            " 116437.74492065 116437.74492065 117624.40239641 116437.74492065\n",
            " 117624.40239641 117624.40239641 116437.74492065 117624.40239641\n",
            " 117624.40239641 117624.40239641 117624.40239641 116437.74492065\n",
            " 116437.74492065 116437.74492065 117624.40239641 117624.40239641\n",
            " 117624.40239641 117624.40239641 117624.40239641 117624.40239641\n",
            " 117624.40239641 117624.40239641 117624.40239641 117624.40239641\n",
            " 117624.40239641 117624.40239641 117624.40239641 117624.40239641\n",
            " 117624.40239641 117624.40239641]\n"
          ]
        }
      ],
      "source": [
        "bitcoin_predictions = catboost_model.predict(predictionDays_array)\n",
        "print(bitcoin_predictions)"
      ]
    },
    {
      "cell_type": "code",
      "execution_count": 20,
      "metadata": {
        "colab": {
          "base_uri": "https://localhost:8080/",
          "height": 466
        },
        "id": "8077e0a0",
        "outputId": "a40c53c3-1b86-42c1-c269-6b4087b2eef5"
      },
      "outputs": [
        {
          "data": {
            "image/png": "[encoded data removed]",
            "text/plain": [
              "<Figure size 1600x800 with 1 Axes>"
            ]
          },
          "metadata": {},
          "output_type": "display_data"
        }
      ],
      "source": [
        "import matplotlib.pyplot as plt\n",
        "actual_prices = data['close'].tail(predictionDays).values\n",
        "prediction_dates = data.index[-predictionDays:]\n",
        "plt.figure(figsize=(16, 8))\n",
        "plt.plot(data.index, data['close'], label='Actual Price')\n",
        "plt.plot(prediction_dates, bitcoin_predictions, label='Predicted Price')\n",
        "\n",
        "plt.title('Bitcoin Price Prediction')\n",
        "plt.xlabel('Date')\n",
        "plt.ylabel('Price')\n",
        "plt.legend()\n",
        "plt.show()"
      ]
    },
    {
      "cell_type": "code",
      "execution_count": 21,
      "metadata": {
        "colab": {
          "base_uri": "https://localhost:8080/"
        },
        "id": "c0905427",
        "outputId": "5f9f121c-c450-4a4b-fcd8-a43e8f03d65f"
      },
      "outputs": [
        {
          "data": {
            "text/plain": [
              "['model.pkl']"
            ]
          },
          "execution_count": 21,
          "metadata": {},
          "output_type": "execute_result"
        }
      ],
      "source": [
        "import joblib\n",
        "\n",
        "joblib.dump(catboost_model, 'model.pkl')"
      ]
    }
  ],
  "metadata": {
    "colab": {
      "provenance": []
    },
    "kernelspec": {
      "display_name": "Python 3",
      "language": "python",
      "name": "python3"
    },
    "language_info": {
      "codemirror_mode": {
        "name": "ipython",
        "version": 3
      },
      "file_extension": ".py",
      "mimetype": "text/x-python",
      "name": "python",
      "nbconvert_exporter": "python",
      "pygments_lexer": "ipython3",
      "version": "3.11.13"
    }
  },
  "nbformat": 4,
  "nbformat_minor": 0
}
